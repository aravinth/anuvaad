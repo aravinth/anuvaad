{
 "cells": [
  {
   "cell_type": "markdown",
   "metadata": {},
   "source": [
    "Understanding how workflowcodes are read"
   ]
  },
  {
   "cell_type": "code",
   "execution_count": 16,
   "metadata": {},
   "outputs": [
    {
     "name": "stdout",
     "output_type": "stream",
     "text": [
      "[{'workflowCode': 'WF_A_AL', 'type': 'ASYNC', 'description': 'Aligns the input files.', 'useCase': 'A_A', 'sequence': [{'order': 0, 'tool': [{'name': 'ALIGNER'}], 'endState': True}]}, {'workflowCode': 'WF_A_JAL', 'type': 'ASYNC', 'description': 'Aligns the input json files.', 'useCase': 'A_JA', 'sequence': [{'order': 0, 'tool': [{'name': 'ALIGNER'}], 'endState': True}]}, {'workflowCode': 'WF_A_FC', 'type': 'ASYNC', 'description': 'converts a file into pdf and other formats', 'useCase': 'A_F', 'sequence': [{'order': 0, 'tool': [{'name': 'FILE-CONVERTER'}], 'endState': True}]}, {'workflowCode': 'WF_A_BM', 'type': 'ASYNC', 'description': 'extracts different blocks from a pdf file.', 'useCase': 'A_B', 'sequence': [{'order': 0, 'tool': [{'name': 'BLOCK-MERGER'}], 'endState': True}]}, {'workflowCode': 'WF_A_TOK', 'type': 'ASYNC', 'description': 'tokenises a given txt file', 'useCase': 'A_TK', 'sequence': [{'order': 0, 'tool': [{'name': 'TOKENISER'}], 'endState': True}]}, {'workflowCode': 'WF_A_WD', 'type': 'ASYNC', 'description': 'word detection wf.', 'useCase': 'A_W', 'sequence': [{'order': 0, 'tool': [{'name': 'WORD-DETECTOR'}], 'endState': True}]}, {'workflowCode': 'WF_A_LD', 'type': 'ASYNC', 'description': 'layout detection wf.', 'useCase': 'A_L', 'sequence': [{'order': 0, 'tool': [{'name': 'LAYOUT-DETECTOR'}], 'endState': True}]}, {'workflowCode': 'WF_A_OD10GV', 'type': 'ASYNC', 'description': 'gv-ocr wf for doc digitisation. ocr wf 1.0', 'useCase': 'A_OD10GV', 'sequence': [{'order': 0, 'tool': [{'name': 'OCR-DD10-GOOGLE-VISION'}], 'endState': True}]}, {'workflowCode': 'WF_A_OD15GV', 'type': 'ASYNC', 'description': 'gv-ocr wf for doc digitisation. ocr wf 1.5', 'useCase': 'A_OD15GV', 'sequence': [{'order': 0, 'tool': [{'name': 'OCR-DD15-GOOGLE-VISION'}], 'endState': True}]}, {'workflowCode': 'WF_A_OD20TES', 'type': 'ASYNC', 'description': 'gv-ocr wf for doc digitisation. ocr wf 1.5', 'useCase': 'A_OD20TES', 'sequence': [{'order': 0, 'tool': [{'name': 'OCR-DD20-TESSERACT'}], 'endState': True}]}, {'workflowCode': 'WF_A_OTES', 'type': 'ASYNC', 'description': 'tess-ocr wf.', 'useCase': 'A_OTES', 'sequence': [{'order': 0, 'tool': [{'name': 'OCR-TESSERACT'}], 'endState': True}]}, {'workflowCode': 'WF_A_BS', 'type': 'ASYNC', 'description': 'block segmentation process', 'useCase': 'A_BS', 'sequence': [{'order': 0, 'tool': [{'name': 'BLOCK-SEGMENTER'}], 'endState': True}]}, {'workflowCode': 'WF_A_OTK', 'type': 'ASYNC', 'description': 'OCR Tokeniser process', 'useCase': 'A_OT', 'sequence': [{'order': 0, 'tool': [{'name': 'OCR-TOKENISER'}], 'endState': True}]}, {'workflowCode': 'WF_A_AN', 'type': 'ASYNC', 'description': 'WF for annotation', 'useCase': 'A_AN', 'sequence': [{'order': 0, 'tool': [{'name': 'ANNOTATOR'}], 'endState': True}]}, {'workflowCode': 'WF_A_IO', 'type': 'ASYNC', 'description': 'WF for OCR on images', 'useCase': 'A_IO', 'sequence': [{'order': 0, 'tool': [{'name': 'IMAGE-OCR'}], 'endState': True}]}, {'workflowCode': 'WF_A_FT_S', 'type': 'ASYNC', 'description': 'Search WF for docx download', 'useCase': 'A_FT_S', 'sequence': [{'order': 0, 'tool': [{'name': 'FILE-TRANSLATOR'}], 'endState': True}]}, {'workflowCode': 'WF_A_FCOD10GV', 'type': 'ASYNC', 'description': 'gv-ocr wf for doc digitisation. ocr wf 1.0 with filr conversion', 'useCase': 'A_FOD10GV', 'sequence': [{'order': 0, 'tool': [{'name': 'WORD-DETECTOR'}], 'endState': False}, {'order': 1, 'tool': [{'name': 'OCR-DD15-GOOGLE-VISION'}], 'endState': True}]}, {'workflowCode': 'WF_A_FCWDLD', 'type': 'ASYNC', 'description': 'converts file into pdf and then detects words and layouts using CV.', 'useCase': 'A_FWL', 'sequence': [{'order': 0, 'tool': [{'name': 'FILE-CONVERTER'}], 'endState': False}, {'order': 1, 'tool': [{'name': 'WORD-DETECTOR'}], 'endState': False}, {'order': 2, 'tool': [{'name': 'LAYOUT-DETECTOR'}], 'endState': True}]}, {'workflowCode': 'WF_A_OD10GVOTK', 'type': 'ASYNC', 'description': 'gv-ocr wf for doc digitisation and tokenisation. ocr wf 1.0', 'useCase': 'A_OD10GVOT', 'sequence': [{'order': 0, 'tool': [{'name': 'OCR-DD10-GOOGLE-VISION'}], 'endState': False}, {'order': 1, 'tool': [{'name': 'OCR-TOKENISER'}], 'endState': True}]}, {'workflowCode': 'WF_A_FCOD10GVOTK', 'type': 'ASYNC', 'description': 'gv-ocr wf for doc digitisation and tokenisation. ocr wf 1.0', 'useCase': 'A_FOD10GVOT', 'sequence': [{'order': 0, 'tool': [{'name': 'FILE-CONVERTER'}], 'endState': False}, {'order': 1, 'tool': [{'name': 'OCR-DD10-GOOGLE-VISION'}], 'endState': False}, {'order': 2, 'tool': [{'name': 'OCR-TOKENISER'}], 'endState': True}]}, {'workflowCode': 'WF_A_FCBMTKTR', 'type': 'ASYNC', 'description': 'converts file into pdf and then extracts multiple blocks. Text content of each block is tokenised and translated', 'useCase': 'A_FBTTR', 'sequence': [{'order': 0, 'tool': [{'name': 'FILE-CONVERTER'}], 'endState': False}, {'order': 1, 'tool': [{'name': 'BLOCK-MERGER'}], 'endState': False}, {'order': 2, 'tool': [{'name': 'TOKENISER'}], 'endState': False}, {'order': 3, 'tool': [{'name': 'TRANSLATOR'}], 'endState': True}]}, {'workflowCode': 'WF_A_FTTKTR', 'type': 'ASYNC', 'description': 'WF for translating docx/pptx', 'useCase': 'A_FTTTR', 'sequence': [{'order': 0, 'tool': [{'name': 'FILE-TRANSLATOR'}], 'endState': False}, {'order': 1, 'tool': [{'name': 'TOKENISER'}], 'endState': False}, {'order': 2, 'tool': [{'name': 'TRANSLATOR'}], 'endState': True}]}, {'workflowCode': 'WF_A_FTIOTKTR', 'type': 'ASYNC', 'description': 'WF for translating docx/pptx', 'useCase': 'A_FTIOTTR', 'sequence': [{'order': 0, 'tool': [{'name': 'FILE-TRANSLATOR'}], 'endState': False}, {'order': 1, 'tool': [{'name': 'IMAGE-OCR'}], 'endState': False}, {'order': 2, 'tool': [{'name': 'TOKENISER'}], 'endState': False}, {'order': 3, 'tool': [{'name': 'TRANSLATOR'}], 'endState': True}]}, {'workflowCode': 'WF_A_FCWDLDBSOTES', 'type': 'ASYNC', 'description': 'Document digitizarion wf.', 'useCase': 'A_FWLBOT', 'sequence': [{'order': 0, 'tool': [{'name': 'FILE-CONVERTER'}], 'endState': False}, {'order': 1, 'tool': [{'name': 'WORD-DETECTOR'}], 'endState': False}, {'order': 2, 'tool': [{'name': 'LAYOUT-DETECTOR'}], 'endState': False}, {'order': 3, 'tool': [{'name': 'BLOCK-SEGMENTER'}], 'endState': False}, {'order': 4, 'tool': [{'name': 'OCR-TESSERACT'}], 'endState': True}]}, {'workflowCode': 'WF_A_FCWDLDBSOD15GV', 'type': 'ASYNC', 'description': 'Document digitization wf version 1.5', 'useCase': 'A_FWLBOD15G', 'sequence': [{'order': 0, 'tool': [{'name': 'FILE-CONVERTER'}], 'endState': False}, {'order': 1, 'tool': [{'name': 'WORD-DETECTOR'}], 'endState': False}, {'order': 2, 'tool': [{'name': 'LAYOUT-DETECTOR'}], 'endState': False}, {'order': 3, 'tool': [{'name': 'BLOCK-SEGMENTER'}], 'endState': False}, {'order': 4, 'tool': [{'name': 'OCR-DD15-GOOGLE-VISION'}], 'endState': True}]}, {'workflowCode': 'WF_A_FCWDLDBSOD15GVOTK', 'type': 'ASYNC', 'description': 'Document digitization and tokenisation wf version 1.5', 'useCase': 'A_FWLBOD15GOT', 'sequence': [{'order': 0, 'tool': [{'name': 'FILE-CONVERTER'}], 'endState': False}, {'order': 1, 'tool': [{'name': 'WORD-DETECTOR'}], 'endState': False}, {'order': 2, 'tool': [{'name': 'LAYOUT-DETECTOR'}], 'endState': False}, {'order': 3, 'tool': [{'name': 'BLOCK-SEGMENTER'}], 'endState': False}, {'order': 4, 'tool': [{'name': 'OCR-DD15-GOOGLE-VISION'}], 'endState': False}, {'order': 5, 'tool': [{'name': 'OCR-TOKENISER'}], 'endState': True}]}, {'workflowCode': 'WF_A_FCWDLDBSOD15GVOTK_S', 'type': 'ASYNC', 'description': 'Document digitization and tokenisation wf version 1.5', 'useCase': 'A_FWLBOD15GOT', 'sequence': [{'order': 0, 'tool': [{'name': 'FILE-CONVERTER'}], 'endState': False}, {'order': 1, 'tool': [{'name': 'WORD-DETECTOR'}], 'endState': False}, {'order': 2, 'tool': [{'name': 'LAYOUT-DETECTOR'}], 'endState': False}, {'order': 3, 'tool': [{'name': 'BLOCK-SEGMENTER'}], 'endState': False}, {'order': 4, 'tool': [{'name': 'OCR-DD15-GOOGLE-VISION'}], 'endState': False}, {'order': 5, 'tool': [{'name': 'OCR-TOKENISER'}], 'endState': True}]}]\n",
      "'workflowCode'\n"
     ]
    }
   ],
   "source": [
    "import yaml\n",
    "configs_global = {}\n",
    "try:\n",
    "    # file = requests.get(config_file_url, allow_redirects=True)\n",
    "    # file_path = yaml_file_loc + yam_file_path_delimiter + yaml_file_name\n",
    "    # open(file_path, 'wb').write(file.content)\n",
    "    with open(\"./configs/wfconfig.yml\", 'r') as stream:\n",
    "        parsed = yaml.safe_load(stream)\n",
    "        print(parsed['WorkflowConfigs'][1]['workflowCodes'])\n",
    "        configs = parsed['WorkflowConfigs']\n",
    "        for obj in configs:\n",
    "            key = obj['workflowCode']\n",
    "            configs_global[key] = obj\n",
    "except Exception as exc:\n",
    "    print(exc)"
   ]
  },
  {
   "cell_type": "code",
   "execution_count": 18,
   "metadata": {},
   "outputs": [],
   "source": [
    "configs_globalA = {'workflowCode': 'WF_A_AL', 'type': 'ASYNC', 'description': 'Aligns the input files.', 'useCase': 'A_A', 'sequence': [{'order': 0, 'tool': [{'name': 'ALIGNER', 'description': 'Accepts 2 parallel files and alings them into parallel corp for training', 'kafka-input': [{'topic': 'KAFKA_ANUVAAD_DP_TOOLS_ALIGNER_INPUT', 'partitions': 'KAFKA_PARTITIONS_PER_TOPIC'}], 'kafka-output': [{'topic': 'KAFKA_ANUVAAD_DP_TOOLS_ALIGNER_OUTPUT', 'partitions': 'KAFKA_PARTITIONS_PER_TOPIC'}]}], 'endState': True}]}"
   ]
  },
  {
   "cell_type": "code",
   "execution_count": 8,
   "metadata": {},
   "outputs": [
    {
     "name": "stdout",
     "output_type": "stream",
     "text": [
      "ALIGNER\n"
     ]
    }
   ],
   "source": [
    "seq = configs_globalA['sequence']\n",
    "for step in seq:\n",
    "    print(step[\"tool\"][0]['name'])"
   ]
  },
  {
   "cell_type": "code",
   "execution_count": 7,
   "metadata": {},
   "outputs": [],
   "source": [
    "config = configs_global['WF_A_AL']\n",
    "sequence = config[\"sequence\"]\n",
    "tools = []\n",
    "for step in sequence:\n",
    "    tool = step[\"tool\"][0][\"name\"]\n",
    "    if tool not in tools:\n",
    "        tools.append(tool)"
   ]
  },
  {
   "cell_type": "markdown",
   "metadata": {},
   "source": [
    "Understanding toolconfig"
   ]
  },
  {
   "cell_type": "code",
   "execution_count": 1,
   "metadata": {},
   "outputs": [],
   "source": [
    "import yaml\n",
    "tools_global = {}\n",
    "try:\n",
    "    # file = requests.get(config_file_url, allow_redirects=True)\n",
    "    # file_path = yaml_file_loc + yam_file_path_delimiter + yaml_file_name\n",
    "    # open(file_path, 'wb').write(file.content)\n",
    "    with open(\"/home/rathan/Downloads/anuvaad/anuvaad-etl/anuvaad-workflow-mgr/etl-wf-manager/configs/toolconfig.yml\", 'r') as stream:\n",
    "        parsed = yaml.safe_load(stream)\n",
    "        #print(parsed)\n",
    "        configs = parsed['ToolConfigs']\n",
    "        for obj in configs:\n",
    "            key = obj['name']\n",
    "            tools_global[key] = obj\n",
    "except Exception as exc:\n",
    "    print(exc)"
   ]
  },
  {
   "cell_type": "code",
   "execution_count": 15,
   "metadata": {},
   "outputs": [
    {
     "data": {
      "text/plain": [
       "'KAFKA_ANUVAAD_DP_TOOLS_FC_OUTPUT'"
      ]
     },
     "execution_count": 15,
     "metadata": {},
     "output_type": "execute_result"
    }
   ],
   "source": [
    "tools_global['FILE-CONVERTER']['kafka-output']"
   ]
  },
  {
   "cell_type": "code",
   "execution_count": 20,
   "metadata": {},
   "outputs": [
    {
     "data": {
      "text/plain": [
       "[{'order': 0,\n",
       "  'tool': [{'name': 'ALIGNER',\n",
       "    'description': 'Accepts 2 parallel files and alings them into parallel corp for training',\n",
       "    'kafka-input': [{'topic': 'KAFKA_ANUVAAD_DP_TOOLS_ALIGNER_INPUT',\n",
       "      'partitions': 'KAFKA_PARTITIONS_PER_TOPIC'}],\n",
       "    'kafka-output': [{'topic': 'KAFKA_ANUVAAD_DP_TOOLS_ALIGNER_OUTPUT',\n",
       "      'partitions': 'KAFKA_PARTITIONS_PER_TOPIC'}]}],\n",
       "  'endState': True}]"
      ]
     },
     "execution_count": 20,
     "metadata": {},
     "output_type": "execute_result"
    }
   ],
   "source": [
    "configs_globalA['sequence']"
   ]
  },
  {
   "cell_type": "markdown",
   "metadata": {},
   "source": [
    "Get Kafka Output Details"
   ]
  },
  {
   "cell_type": "code",
   "execution_count": 23,
   "metadata": {},
   "outputs": [],
   "source": [
    "def get_tool_kafka_details(tool_name):\n",
    "        return tools_global[tool_name]"
   ]
  },
  {
   "cell_type": "code",
   "execution_count": 25,
   "metadata": {},
   "outputs": [
    {
     "name": "stdout",
     "output_type": "stream",
     "text": [
      "KAFKA_ANUVAAD_DP_TOOLS_ALIGNER_OUTPUT\n"
     ]
    }
   ],
   "source": [
    "for step in configs_globalA['sequence']:\n",
    "    tool_details = get_tool_kafka_details(step[\"tool\"][0]['name'])\n",
    "    if 'kafka-output' in tool_details.keys():\n",
    "        print(tool_details[\"kafka-output\"])"
   ]
  },
  {
   "cell_type": "code",
   "execution_count": 4,
   "metadata": {},
   "outputs": [
    {
     "data": {
      "text/plain": [
       "'http://0.0.0.0:5002/anuvaad-etl/tokeniser/v0/paragraphs-tokenisation-wf'"
      ]
     },
     "execution_count": 4,
     "metadata": {},
     "output_type": "execute_result"
    }
   ],
   "source": [
    "tools_global['SYNC-PARAGRAPH-TOKENIZER'][\"api-details\"][0][\"uri\"]"
   ]
  },
  {
   "cell_type": "code",
   "execution_count": 6,
   "metadata": {},
   "outputs": [
    {
     "name": "stdout",
     "output_type": "stream",
     "text": [
      "/home/rathan/Downloads/Code/anuvaad/anuvaad-etl/anuvaad-workflow-mgr/etl-wf-manager/configs/wfconfig.yml\n"
     ]
    }
   ],
   "source": [
    "import os\n",
    "path = \"/home/rathan/Downloads/Code/anuvaad/anuvaad-etl/anuvaad-workflow-mgr/etl-wf-manager\"\n",
    "print(os.path.join(path, \"configs/wfconfig.yml\"))"
   ]
  },
  {
   "cell_type": "code",
   "execution_count": 3,
   "metadata": {},
   "outputs": [],
   "source": [
    "import requests\n",
    "config_file_url = os.environ.get('ANUVAAD_ETL_WFM_CONFIG_FILE_URL',\n",
    "            'https://raw.githubusercontent.com/project-anuvaad/anuvaad/translator_feature/anuvaad-etl/anuvaad-workflow-mgr/config/etl-wf-manager-config-prod.yml')\n",
    "yaml_file_loc = \"configs\"\n",
    "yam_file_path_delimiter = \"/\"\n",
    "yaml_file_name = \"wfconfigs.yml\""
   ]
  },
  {
   "cell_type": "code",
   "execution_count": 4,
   "metadata": {},
   "outputs": [
    {
     "data": {
      "text/plain": [
       "24385"
      ]
     },
     "execution_count": 4,
     "metadata": {},
     "output_type": "execute_result"
    }
   ],
   "source": [
    "file = requests.get(config_file_url, allow_redirects=True)\n",
    "file_path = yaml_file_loc + yam_file_path_delimiter + yaml_file_name\n",
    "open(file_path, 'wb').write(file.content)"
   ]
  },
  {
   "cell_type": "code",
   "execution_count": 1,
   "metadata": {},
   "outputs": [
    {
     "data": {
      "text/plain": [
       "'/home/rathan/Downloads/Code/anuvaad/anuvaad-etl/anuvaad-workflow-mgr/etl-wf-manager'"
      ]
     },
     "execution_count": 1,
     "metadata": {},
     "output_type": "execute_result"
    }
   ],
   "source": [
    "os.getcwd()"
   ]
  },
  {
   "cell_type": "code",
   "execution_count": 1,
   "metadata": {},
   "outputs": [],
   "source": [
    "data = {'input': {'workflowCode': 'WF_S_TR', 'recordID': 'A_FBTTR-bVdPr-1665643147933|0-16656431710281825.json', 'locale': 'hi', 'model': {'uuid': 'a87a22ab-1474-4da9-85c3-8459f897aca0', 'is_primary': True, 'model_id': 100, 'model_name': 'Hindi-English IndicTrans Model-1', 'source_language_code': 'hi', 'source_language_name': 'Hindi', 'target_language_code': 'en', 'target_language_name': 'English', 'description': 'AAI4B hi-en model-1(indictrans/fairseq)', 'status': 'ACTIVE', 'connection_details': {'kafka': {'input_topic': 'KAFKA_AAI4B_NMT_TRANSLATION_INPUT_TOPIC', 'output_topic': 'KAFKA_AAI4B_NMT_TRANSLATION_OUTPUT_TOPIC'}, 'translation': {'api_endpoint': 'AAIB_NMT_TRANSLATE_ENDPOINT', 'host': 'AAI4B_NMT_HOST'}, 'interactive': {'api_endpoint': 'AAIB_NMT_IT_ENDPOINT', 'host': 'AAI4B_NMT_HOST'}}, 'interactive_translation': False}, 'textBlocks': [{'attrib': None, 'avg_line_height': 22, 'block_id': '5847db98d9f1472ca7a1cc60801f473d', 'block_identifier': '719639a6-970d-4b48-b155-131728659b3a', 'children': [{'attrib': None, 'avg_line_height': 22, 'block_id': '5847db98d9f1472ca7a1cc60801f473d', 'children': None, 'font_color': None, 'font_family': 'Arial Unicode MS', 'font_size': 18, 'text': 'रैक। सूत्रधार उठता है और दर्शकों से कहता है। )', 'text_height': 22, 'text_left': 79, 'text_top': 126, 'text_width': 272, 'word_coords': [{'conf': 58, 'text': 'रैक।', 'text_height': 62, 'text_left': 228, 'text_top': 350, 'text_width': 77}, {'conf': 93, 'text': 'सूत्रधार', 'text_height': 77, 'text_left': 301, 'text_top': 350, 'text_width': 126}, {'conf': 96, 'text': 'उठता', 'text_height': 28, 'text_left': 435, 'text_top': 384, 'text_width': 86}, {'conf': 95, 'text': 'है', 'text_height': 45, 'text_left': 528, 'text_top': 372, 'text_width': 28}, {'conf': 95, 'text': 'और', 'text_height': 39, 'text_left': 567, 'text_top': 373, 'text_width': 64}, {'conf': 96, 'text': 'दर्शकों', 'text_height': 77, 'text_left': 636, 'text_top': 350, 'text_width': 107}, {'conf': 96, 'text': 'से', 'text_height': 40, 'text_left': 753, 'text_top': 373, 'text_width': 32}, {'conf': 92, 'text': 'कहता', 'text_height': 33, 'text_left': 794, 'text_top': 383, 'text_width': 96}, {'conf': 91, 'text': 'है।', 'text_height': 44, 'text_left': 898, 'text_top': 372, 'text_width': 43}, {'conf': 92, 'text': ')', 'text_height': 39, 'text_left': 965, 'text_top': 378, 'text_width': 13}], 'parent_block_id': '5847db98d9f1472ca7a1cc60801f473d', 'block_identifier': '719639a6-970d-4b48-b155-131728659b3a', 'page_no': 1, 'sentence_id': '157deebf-e77c-4cdd-95e7-8d0d7cd4765a'}], 'font_color': None, 'font_family': 'Arial Unicode MS', 'font_size': 18, 'page_info': {'page_height': 720, 'page_no': 1, 'page_width': 482}, 'text': 'रैक। सूत्रधार उठता है और दर्शकों से कहता है। )', 'text_height': 22, 'text_left': 79, 'text_top': 126, 'text_width': 272, 'tokenized_sentences': [{'batch_id': '9a9fa0e0-8dd1-4147-b518-d1f6110f733c', 'n_id': 'A_FBTTR-bVdPr-1665643147933|0-16656431710281825.json|1|5847db98d9f1472ca7a1cc60801f473d', 's0_src': 'रैक।', 's0_tgt': 'The rack.', 's_id': '157deebf-e77c-4cdd-95e7-8d0d7cd4765a', 'src': 'रैक। सूत्रधार उठता है और दर्शकों से कहता है।  )', 'tagged_src': 'रैक।', 'tagged_tgt': 'The rack.', 'tgt': '', 'tmx_phrases': [], 'save': False}], 'word_coords': [{'conf': 58, 'text': 'रैक।', 'text_height': 62, 'text_left': 228, 'text_top': 350, 'text_width': 77}, {'conf': 93, 'text': 'सूत्रधार', 'text_height': 77, 'text_left': 301, 'text_top': 350, 'text_width': 126}, {'conf': 96, 'text': 'उठता', 'text_height': 28, 'text_left': 435, 'text_top': 384, 'text_width': 86}, {'conf': 95, 'text': 'है', 'text_height': 45, 'text_left': 528, 'text_top': 372, 'text_width': 28}, {'conf': 95, 'text': 'और', 'text_height': 39, 'text_left': 567, 'text_top': 373, 'text_width': 64}, {'conf': 96, 'text': 'दर्शकों', 'text_height': 77, 'text_left': 636, 'text_top': 350, 'text_width': 107}, {'conf': 96, 'text': 'से', 'text_height': 40, 'text_left': 753, 'text_top': 373, 'text_width': 32}, {'conf': 92, 'text': 'कहता', 'text_height': 33, 'text_left': 794, 'text_top': 383, 'text_width': 96}, {'conf': 91, 'text': 'है।', 'text_height': 44, 'text_left': 898, 'text_top': 372, 'text_width': 43}, {'conf': 92, 'text': ')', 'text_height': 39, 'text_left': 965, 'text_top': 378, 'text_width': 13}], 'merged_block_id': '719639a6-970d-4b48-b155-131728659b3a'}], 'context': 'JUDICIARY', 'modifiedSentences': ['157deebf-e77c-4cdd-95e7-8d0d7cd4765a', '6e6f0e94-f2b7-4f6a-b412-b9656efb4c82'], 'retranslate': False, 'metadata': {'userID': '123', 'orgID': '213', 'roles': '123', 'requestID': '123', 'sessionID': '123', 'receivedAt': 1665652030961, 'module': 'WORKFLOW-MANAGER'}, 'jobID': 'S_TR-uUTSM-1665652030961'}, 'jobID': 'S_TR-uUTSM-1665652030961', 'translation': 'BLOCK', 'workflowCode': 'WF_S_TR', 'active': True, 'status': 'FAILED', 'state': 'INITIATED', 'metadata': {'userID': '123', 'orgID': '213', 'roles': '123', 'requestID': '123', 'sessionID': '123', 'receivedAt': 1665652030961, 'module': 'WORKFLOW-MANAGER'}, 'startTime': 1665652031767, 'taskDetails': [], 'endTime': 1665652162615, 'error': {'errorID': '54d59f4d-3011-4758-8fdc-4e78a033b969', 'code': 'ERROR_FROM_TOOL', 'message': 'Error from the tool: SYNC-BLOCK-TRANSLATOR', 'timeStamp': 16656521620294669, 'errorType': 'core-error', 'jobID': 'S_TR-uUTSM-1665652030961'}}"
   ]
  },
  {
   "cell_type": "code",
   "execution_count": 10,
   "metadata": {},
   "outputs": [
    {
     "data": {
      "text/plain": [
       "{'uuid': 'a87a22ab-1474-4da9-85c3-8459f897aca0',\n",
       " 'is_primary': True,\n",
       " 'model_id': 100,\n",
       " 'model_name': 'Hindi-English IndicTrans Model-1',\n",
       " 'source_language_code': 'hi',\n",
       " 'source_language_name': 'Hindi',\n",
       " 'target_language_code': 'en',\n",
       " 'target_language_name': 'English',\n",
       " 'description': 'AAI4B hi-en model-1(indictrans/fairseq)',\n",
       " 'status': 'ACTIVE',\n",
       " 'connection_details': {'kafka': {'input_topic': 'KAFKA_AAI4B_NMT_TRANSLATION_INPUT_TOPIC',\n",
       "   'output_topic': 'KAFKA_AAI4B_NMT_TRANSLATION_OUTPUT_TOPIC'},\n",
       "  'translation': {'api_endpoint': 'AAIB_NMT_TRANSLATE_ENDPOINT',\n",
       "   'host': 'AAI4B_NMT_HOST'},\n",
       "  'interactive': {'api_endpoint': 'AAIB_NMT_IT_ENDPOINT',\n",
       "   'host': 'AAI4B_NMT_HOST'}},\n",
       " 'interactive_translation': False}"
      ]
     },
     "execution_count": 10,
     "metadata": {},
     "output_type": "execute_result"
    }
   ],
   "source": [
    "data['input']['model']"
   ]
  }
 ],
 "metadata": {
  "kernelspec": {
   "display_name": "Python 3.7.13 ('venv')",
   "language": "python",
   "name": "python3"
  },
  "language_info": {
   "codemirror_mode": {
    "name": "ipython",
    "version": 3
   },
   "file_extension": ".py",
   "mimetype": "text/x-python",
   "name": "python",
   "nbconvert_exporter": "python",
   "pygments_lexer": "ipython3",
   "version": "3.7.13"
  },
  "orig_nbformat": 4,
  "vscode": {
   "interpreter": {
    "hash": "b95557fdc75917ad3a2a1a11af308f45d3104b860a9840ce18b284bbc56c84ce"
   }
  }
 },
 "nbformat": 4,
 "nbformat_minor": 2
}
